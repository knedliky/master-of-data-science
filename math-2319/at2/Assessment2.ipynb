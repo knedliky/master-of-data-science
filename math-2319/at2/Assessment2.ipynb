{
  "cells": [
    {
      "metadata": {
        "collapsed": true
      },
      "cell_type": "markdown",
      "source": "# Assignment 2\n\n__Simon Karumbi__   \ns3455453"
    },
    {
      "metadata": {},
      "cell_type": "markdown",
      "source": "### Honour Code\nI solemnly swear that I have not discussed my assignment solutions with anyone in any way and the solutions I am submitting are my own personal work.\n\n_Simon Karumbi_"
    },
    {
      "metadata": {
        "trusted": true
      },
      "cell_type": "code",
      "source": "import pandas as pd\nimport numpy as np\nimport os, ssl\n\n# setting all the columns to be visible\npd.set_option('display.max_columns', None) \n\nif (not os.environ.get('PYTHONHTTPSVERIFY', '') and\n    getattr(ssl, '_create_unverified_context', None)): \n    ssl._create_default_https_context = ssl._create_unverified_context",
      "execution_count": 1,
      "outputs": []
    },
    {
      "metadata": {
        "trusted": true
      },
      "cell_type": "code",
      "source": "Q1 = pd.read_csv('A2_Q1.csv')\nprint(Q1.shape)\nQ1.head(5)",
      "execution_count": 2,
      "outputs": [
        {
          "output_type": "stream",
          "text": "(20, 6)\n",
          "name": "stdout"
        },
        {
          "output_type": "execute_result",
          "execution_count": 2,
          "data": {
            "text/html": "<div>\n<style scoped>\n    .dataframe tbody tr th:only-of-type {\n        vertical-align: middle;\n    }\n\n    .dataframe tbody tr th {\n        vertical-align: top;\n    }\n\n    .dataframe thead th {\n        text-align: right;\n    }\n</style>\n<table border=\"1\" class=\"dataframe\">\n  <thead>\n    <tr style=\"text-align: right;\">\n      <th></th>\n      <th>ID</th>\n      <th>Age</th>\n      <th>Education</th>\n      <th>Marital_Status</th>\n      <th>Occupation</th>\n      <th>Annual_Income</th>\n    </tr>\n  </thead>\n  <tbody>\n    <tr>\n      <th>0</th>\n      <td>1</td>\n      <td>39</td>\n      <td>bachelors</td>\n      <td>never married</td>\n      <td>professional</td>\n      <td>high</td>\n    </tr>\n    <tr>\n      <th>1</th>\n      <td>2</td>\n      <td>50</td>\n      <td>doctorate</td>\n      <td>married</td>\n      <td>professional</td>\n      <td>mid</td>\n    </tr>\n    <tr>\n      <th>2</th>\n      <td>3</td>\n      <td>18</td>\n      <td>high school</td>\n      <td>never married</td>\n      <td>agriculture</td>\n      <td>low</td>\n    </tr>\n    <tr>\n      <th>3</th>\n      <td>4</td>\n      <td>30</td>\n      <td>bachelors</td>\n      <td>married</td>\n      <td>professional</td>\n      <td>mid</td>\n    </tr>\n    <tr>\n      <th>4</th>\n      <td>5</td>\n      <td>37</td>\n      <td>high school</td>\n      <td>married</td>\n      <td>agriculture</td>\n      <td>mid</td>\n    </tr>\n  </tbody>\n</table>\n</div>",
            "text/plain": "   ID  Age    Education Marital_Status    Occupation Annual_Income\n0   1   39    bachelors  never married  professional          high\n1   2   50    doctorate        married  professional           mid\n2   3   18  high school  never married   agriculture           low\n3   4   30    bachelors        married  professional           mid\n4   5   37  high school        married   agriculture           mid"
          },
          "metadata": {}
        }
      ]
    },
    {
      "metadata": {
        "trusted": true
      },
      "cell_type": "code",
      "source": "# removing ID as it is a redundant feature\nQ1.drop(columns = 'ID', inplace = True) ",
      "execution_count": 3,
      "outputs": []
    },
    {
      "metadata": {},
      "cell_type": "markdown",
      "source": "# Question 1\n### Part A\nCompute the impurity of the target feature. We will do this by using the Gini index. "
    },
    {
      "metadata": {
        "trusted": true
      },
      "cell_type": "code",
      "source": "# Defining the target feature\ntarget = 'Annual_Income'\nprobs = Q1[target].value_counts(normalize = True)\n\ngini_index = 1 - np.sum(np.square(probs))\nprint(f'Impurity using the Gini index: {gini_index}')",
      "execution_count": 4,
      "outputs": [
        {
          "output_type": "stream",
          "text": "Impurity using the Gini index: 0.5549999999999999\n",
          "name": "stdout"
        }
      ]
    },
    {
      "metadata": {},
      "cell_type": "markdown",
      "source": "### Part B\nNow that we have calculated the Gini index of the target feature, we need to decide which feature set to split the decision tree by. We need to work on the `Age` continuous feature."
    },
    {
      "metadata": {
        "trusted": true
      },
      "cell_type": "code",
      "source": "# Creating a Data Frame to hold information about choosing the root node of the Decision Tree\ndf_splits = pd.DataFrame(columns = ['split','remainder','information_gain','is_optimal'])",
      "execution_count": 5,
      "outputs": []
    },
    {
      "metadata": {},
      "cell_type": "markdown",
      "source": "#### Gini index function\nCreating a function for computing the gini index of a feature"
    },
    {
      "metadata": {
        "trusted": true
      },
      "cell_type": "code",
      "source": "def compute_gini(feature):\n    \"\"\"\n    A function that takes in a feature series and computes the gini index\n    \"\"\"\n    \n    probs = feature.value_counts(normalize=True)\n    impurity = round(1 - np.sum(np.square(probs)), 3)\n    \n    return(impurity)",
      "execution_count": 6,
      "outputs": []
    },
    {
      "metadata": {},
      "cell_type": "markdown",
      "source": "#### Remainder function\nCreating a function for measuring the remainder entropy of a descriptive feaure"
    },
    {
      "metadata": {
        "trusted": true
      },
      "cell_type": "code",
      "source": "# measuring the remainder entropy for each of the levels in a feature\ndef remainder_gini(df, target_feature, descriptive_feature):\n    \"\"\"\n    Calculates the remainder entropy of each level of the descriptive feature through the gini index \n    \"\"\"\n\n    # Initialising the remainder entropy value for each descriptive feature\n    rem = 0\n\n    # Calculate the weighted entropy of each unique level of a descriptive feature\n    for level in df[descriptive_feature].unique():\n        df_feature_level = df[df[descriptive_feature] == level]\n        target_impurity = compute_gini(df_feature_level[target_feature])\n        partition_weight = len(df_feature_level) /(len(df))\n        \n        # Calculate the weighted remainder\n        rem = round(rem + partition_weight * target_impurity, 3)\n    return(rem)",
      "execution_count": 7,
      "outputs": []
    },
    {
      "metadata": {},
      "cell_type": "markdown",
      "source": "#### Information Gain function\nCreating a function for computing the Information Gain for a descriptive feature"
    },
    {
      "metadata": {
        "trusted": true
      },
      "cell_type": "code",
      "source": "def information_gain_gini(df, target_feature, descriptive_feature):\n    \n    \"\"\"\n    Calculates the information gain of a particular descriptive feature, measured against a target feature within a dataset\n    \"\"\"\n    \n    # Calculate the impurity of the target feature\n    target_impurity = compute_gini(df[target_feature])\n    \n    # Calculate the remainder of the descriptive feature\n    rem = remainder_gini(df, target_feature, descriptive_feature)\n    \n    # Calculate the information gain of each descriptive feature, rounding to 3 decimal places\n    information_gain = round(target_impurity - rem, 3)\n    \n    return(information_gain)",
      "execution_count": 8,
      "outputs": []
    },
    {
      "metadata": {},
      "cell_type": "markdown",
      "source": "#### Dealing with the Age continuous variable\nSorting the dataframe by age, to notice any changes in the target feature. Storing the split candidates and then performing a information gain computation to find best candidate"
    },
    {
      "metadata": {
        "trusted": true
      },
      "cell_type": "code",
      "source": "# Order df by age column\nQ1.sort_values(by = 'Age', inplace = True)\n\n# Calculate the information gain for each split, and select the highest split\nsplit_values = []\nQ1 = Q1.reset_index(drop = True)\n\n# For each age value change in the data, if the target feature also changes, add the age to be tested as a split candidate\nfor index, row in Q1.iterrows():\n    if (index > 1 and Q1.loc[index, target] != Q1.loc[index - 1, target]):\n        split_values.append(Q1.loc[index, 'Age'])",
      "execution_count": 9,
      "outputs": []
    },
    {
      "metadata": {
        "trusted": true
      },
      "cell_type": "code",
      "source": "# Finding the optimal age bin\noptimal = []\n\nfor split in split_values:\n    # create a copy of the Q1 dataset each time\n    Q1_copy = Q1.copy()\n    \n    # creating discretised bins on each of the split candidates found earlier. Increasing max age as we don't want it to be inclusive on the right hand side\n    Q1_copy['Age'] = pd.cut(x = Q1_copy['Age'], bins = [0,split, max(Q1_copy['Age']) + 1], right = False, labels = ['less than ' + split.astype(str), 'greater than or equal to ' + split.astype(str)])\n    \n    # calculating the information gain for each of the split candidates\n    optimal.append([split, information_gain_gini(Q1_copy, target, 'Age')])\n\n# Printing the age bins and their respective information gains, we can see that splitting by <25 and >=25 is the optimal solution\noptimal",
      "execution_count": 10,
      "outputs": [
        {
          "output_type": "execute_result",
          "execution_count": 10,
          "data": {
            "text/plain": "[[25, 0.202], [29, 0.195], [39, 0.026], [44, 0.082]]"
          },
          "metadata": {}
        }
      ]
    },
    {
      "metadata": {
        "trusted": true
      },
      "cell_type": "code",
      "source": "# Creating a new column for binned age, so that we know the original values for sanity checks\nQ1['Age_Binned'] = pd.cut(x = Q1['Age'], bins = [0, 25, max(Q1['Age'] + 1)], right = False, labels =['< 25', '>=25'])",
      "execution_count": 11,
      "outputs": []
    },
    {
      "metadata": {},
      "cell_type": "markdown",
      "source": "#### Adding all the information to the Data Frame\nNow we iterate through each descriptive feature, excluding the target feature and the age column (we have binned age instead) and add it to the Data Frame"
    },
    {
      "metadata": {
        "trusted": true
      },
      "cell_type": "code",
      "source": "# Dropping the target feature and age, as the age is already binned\nfor feature in Q1.drop(columns = [target, 'Age']).columns:\n    df_splits.loc[len(df_splits)] = [feature, remainder_gini(Q1, target, feature), information_gain_gini(Q1, target, feature), False]\n",
      "execution_count": 12,
      "outputs": []
    },
    {
      "metadata": {
        "trusted": true
      },
      "cell_type": "code",
      "source": "# Calculating the optimal split candidate by looking at the maximum information gain\nfor index, row in df_splits.iterrows():\n    if(df_splits.loc[index, 'information_gain'] == max(df_splits['information_gain'])):\n        df_splits.loc[index, 'is_optimal'] = True\n        \ndf_splits",
      "execution_count": 13,
      "outputs": [
        {
          "output_type": "execute_result",
          "execution_count": 13,
          "data": {
            "text/html": "<div>\n<style scoped>\n    .dataframe tbody tr th:only-of-type {\n        vertical-align: middle;\n    }\n\n    .dataframe tbody tr th {\n        vertical-align: top;\n    }\n\n    .dataframe thead th {\n        text-align: right;\n    }\n</style>\n<table border=\"1\" class=\"dataframe\">\n  <thead>\n    <tr style=\"text-align: right;\">\n      <th></th>\n      <th>split</th>\n      <th>remainder</th>\n      <th>information_gain</th>\n      <th>is_optimal</th>\n    </tr>\n  </thead>\n  <tbody>\n    <tr>\n      <th>0</th>\n      <td>Education</td>\n      <td>0.537</td>\n      <td>0.018</td>\n      <td>False</td>\n    </tr>\n    <tr>\n      <th>1</th>\n      <td>Marital_Status</td>\n      <td>0.468</td>\n      <td>0.087</td>\n      <td>False</td>\n    </tr>\n    <tr>\n      <th>2</th>\n      <td>Occupation</td>\n      <td>0.433</td>\n      <td>0.122</td>\n      <td>False</td>\n    </tr>\n    <tr>\n      <th>3</th>\n      <td>Age_Binned</td>\n      <td>0.353</td>\n      <td>0.202</td>\n      <td>True</td>\n    </tr>\n  </tbody>\n</table>\n</div>",
            "text/plain": "            split  remainder  information_gain  is_optimal\n0       Education      0.537             0.018       False\n1  Marital_Status      0.468             0.087       False\n2      Occupation      0.433             0.122       False\n3      Age_Binned      0.353             0.202        True"
          },
          "metadata": {}
        }
      ]
    },
    {
      "metadata": {},
      "cell_type": "markdown",
      "source": "### Part C\nAssume `Education` is the root node for the Decision Tree"
    },
    {
      "metadata": {
        "trusted": true
      },
      "cell_type": "code",
      "source": "df_prediction = pd.DataFrame(columns = ['Leaf_Condition', 'Low_Income_Prob', 'Mid_Income_Prob', 'High_Income_Prob', 'Leaf_Prediction'])",
      "execution_count": 14,
      "outputs": []
    },
    {
      "metadata": {
        "trusted": true
      },
      "cell_type": "code",
      "source": "# Iterate over unique values of Education\nfor level in Q1['Education'].unique():\n    # Create a list to insert elements to add to the Data Frame\n    pred = list()\n    \n    # Append the condition to the list and create a list for numeric vals\n    pred.append('Education == ' + level)\n    \n    # For each low, med and high, calculate the probablity of a correct prediction\n    for target_level in ['low', 'mid', 'high']:\n        correct = len(Q1[(Q1['Education'] == level) & (Q1[target] == target_level)])\n        total = len(Q1[Q1['Education'] == level])\n\n        # Calculating the probablity of successfully predicting the target feature\n        pred.append(correct/total)\n    \n    # Obtaining the index of the highest probability\n    index  = pred.index(max(pred[1:-1]))\n    \n    # Case statement for appending the prediction value\n    if(index == 1):\n        pred.append('low')\n    if(index == 2):\n        pred.append('mid')\n    if(index == 3):\n        pred.append('high')\n    \n    # Adding the rows to the Data Frame\n    df_prediction.loc[len(df_prediction)] = pred",
      "execution_count": 15,
      "outputs": []
    },
    {
      "metadata": {
        "trusted": true
      },
      "cell_type": "code",
      "source": "# Printing the Data Frame\ndf_prediction",
      "execution_count": 16,
      "outputs": [
        {
          "output_type": "execute_result",
          "execution_count": 16,
          "data": {
            "text/html": "<div>\n<style scoped>\n    .dataframe tbody tr th:only-of-type {\n        vertical-align: middle;\n    }\n\n    .dataframe tbody tr th {\n        vertical-align: top;\n    }\n\n    .dataframe thead th {\n        text-align: right;\n    }\n</style>\n<table border=\"1\" class=\"dataframe\">\n  <thead>\n    <tr style=\"text-align: right;\">\n      <th></th>\n      <th>Leaf_Condition</th>\n      <th>Low_Income_Prob</th>\n      <th>Mid_Income_Prob</th>\n      <th>High_Income_Prob</th>\n      <th>Leaf_Prediction</th>\n    </tr>\n  </thead>\n  <tbody>\n    <tr>\n      <th>0</th>\n      <td>Education == high school</td>\n      <td>0.250</td>\n      <td>0.500</td>\n      <td>0.25</td>\n      <td>mid</td>\n    </tr>\n    <tr>\n      <th>1</th>\n      <td>Education == bachelors</td>\n      <td>0.125</td>\n      <td>0.625</td>\n      <td>0.25</td>\n      <td>mid</td>\n    </tr>\n    <tr>\n      <th>2</th>\n      <td>Education == doctorate</td>\n      <td>0.000</td>\n      <td>0.750</td>\n      <td>0.25</td>\n      <td>mid</td>\n    </tr>\n  </tbody>\n</table>\n</div>",
            "text/plain": "             Leaf_Condition  Low_Income_Prob  Mid_Income_Prob  \\\n0  Education == high school            0.250            0.500   \n1    Education == bachelors            0.125            0.625   \n2    Education == doctorate            0.000            0.750   \n\n   High_Income_Prob Leaf_Prediction  \n0              0.25             mid  \n1              0.25             mid  \n2              0.25             mid  "
          },
          "metadata": {}
        }
      ]
    },
    {
      "metadata": {},
      "cell_type": "markdown",
      "source": "# Question 2\n### Part A\nSolving for the confusion Matrix"
    },
    {
      "metadata": {
        "trusted": true
      },
      "cell_type": "code",
      "source": "Q2 = pd.read_csv('A2_Q2.csv')",
      "execution_count": 17,
      "outputs": []
    },
    {
      "metadata": {
        "trusted": true
      },
      "cell_type": "code",
      "source": "print(Q2.shape)\nQ2.head()",
      "execution_count": 18,
      "outputs": [
        {
          "output_type": "stream",
          "text": "(30, 3)\n",
          "name": "stdout"
        },
        {
          "output_type": "execute_result",
          "execution_count": 18,
          "data": {
            "text/html": "<div>\n<style scoped>\n    .dataframe tbody tr th:only-of-type {\n        vertical-align: middle;\n    }\n\n    .dataframe tbody tr th {\n        vertical-align: top;\n    }\n\n    .dataframe thead th {\n        text-align: right;\n    }\n</style>\n<table border=\"1\" class=\"dataframe\">\n  <thead>\n    <tr style=\"text-align: right;\">\n      <th></th>\n      <th>ID</th>\n      <th>Target</th>\n      <th>Score</th>\n    </tr>\n  </thead>\n  <tbody>\n    <tr>\n      <th>0</th>\n      <td>1</td>\n      <td>False</td>\n      <td>0.46</td>\n    </tr>\n    <tr>\n      <th>1</th>\n      <td>2</td>\n      <td>False</td>\n      <td>0.14</td>\n    </tr>\n    <tr>\n      <th>2</th>\n      <td>3</td>\n      <td>False</td>\n      <td>0.48</td>\n    </tr>\n    <tr>\n      <th>3</th>\n      <td>4</td>\n      <td>True</td>\n      <td>0.91</td>\n    </tr>\n    <tr>\n      <th>4</th>\n      <td>5</td>\n      <td>False</td>\n      <td>0.24</td>\n    </tr>\n  </tbody>\n</table>\n</div>",
            "text/plain": "   ID  Target  Score\n0   1   False   0.46\n1   2   False   0.14\n2   3   False   0.48\n3   4    True   0.91\n4   5   False   0.24"
          },
          "metadata": {}
        }
      ]
    },
    {
      "metadata": {
        "trusted": true
      },
      "cell_type": "code",
      "source": "# Removing the redundant feature\nQ2.drop(columns = 'ID', inplace = True)",
      "execution_count": 19,
      "outputs": []
    },
    {
      "metadata": {
        "trusted": true
      },
      "cell_type": "code",
      "source": "score = np.array(Q2['Score'])\nQ2['Score_Threshhold'] = score > 0.5\n\nconfusion_matrix = pd.crosstab(Q2['Target'], Q2['Score_Threshhold'], rownames=['Actual'], colnames=['Predicted'])\nprint(confusion_matrix)",
      "execution_count": 20,
      "outputs": [
        {
          "output_type": "stream",
          "text": "Predicted  False  True \nActual                 \nFalse         11      6\nTrue           4      9\n",
          "name": "stdout"
        }
      ]
    },
    {
      "metadata": {
        "trusted": true
      },
      "cell_type": "code",
      "source": "import seaborn as sns\nimport matplotlib.pyplot as plt\n\nsns.heatmap(confusion_matrix, annot=True, linecolor = 'white', linewidth = 0.5)\nplt.title('Confusion Matrix')\nplt.show()",
      "execution_count": 21,
      "outputs": [
        {
          "output_type": "display_data",
          "data": {
            "text/plain": "<Figure size 640x480 with 2 Axes>"
          },
          "metadata": {}
        }
      ]
    },
    {
      "metadata": {},
      "cell_type": "markdown",
      "source": "### Part B\nComputing the following metrics"
    },
    {
      "metadata": {
        "trusted": true
      },
      "cell_type": "code",
      "source": "FP = np.sum(confusion_matrix, axis = 0) - np.diag(confusion_matrix) \nFN = np.sum(confusion_matrix, axis = 1) - np.diag(confusion_matrix) \nTP = np.diag(confusion_matrix)\nTN = np.sum(confusion_matrix) - (FP + FN + TP)",
      "execution_count": 22,
      "outputs": []
    },
    {
      "metadata": {},
      "cell_type": "markdown",
      "source": "#### Error Rate\nCalculated by False Positives and False Negatives divided by the total dataset (TP + FP + TN + FN)"
    },
    {
      "metadata": {
        "trusted": true
      },
      "cell_type": "code",
      "source": "error = np.mean((FP + FN)/ (TP + FP + TN + FN))\nprint(f'The error rate of this dataset is: {round(error, 3)}')",
      "execution_count": 23,
      "outputs": [
        {
          "output_type": "stream",
          "text": "The error rate of this dataset is: 0.667\n",
          "name": "stdout"
        }
      ]
    },
    {
      "metadata": {},
      "cell_type": "markdown",
      "source": "#### True Positive Rate\nCalculated by dividing True Positives by total amount of Positives (TP and FN) in the dataset"
    },
    {
      "metadata": {
        "trusted": true
      },
      "cell_type": "code",
      "source": "tpr = np.mean(TP/(TP + FN))\nprint(f'The True Positive Rate of this dataset is {round(tpr, 3)}')",
      "execution_count": 24,
      "outputs": [
        {
          "output_type": "stream",
          "text": "The True Positive Rate of this dataset is 0.67\n",
          "name": "stdout"
        }
      ]
    },
    {
      "metadata": {},
      "cell_type": "markdown",
      "source": "#### False Positive Rate\nCalculated by dividing the False Negative by the total amount of Negative Predicitons (TN and FP), which can be found by subtracting True Negative divided by TN and FP, and subtracting from 1."
    },
    {
      "metadata": {
        "trusted": true
      },
      "cell_type": "code",
      "source": "fpr = np.mean(1 - TN/(TN + FP))\nprint(f'The False Positive Rate of this dataset is: {fpr}')",
      "execution_count": 25,
      "outputs": [
        {
          "output_type": "stream",
          "text": "The False Positive Rate of this dataset is: 0.5\n",
          "name": "stdout"
        }
      ]
    },
    {
      "metadata": {},
      "cell_type": "markdown",
      "source": "#### Precision\nCalculated by dividing True Positive by total amount of Positive Predictions (TP and FP)"
    },
    {
      "metadata": {
        "trusted": true
      },
      "cell_type": "code",
      "source": "prec = np.mean(TP/(TP + FP))\nprint(f'The Precision of this dataset is {round(prec,3)}')",
      "execution_count": 26,
      "outputs": [
        {
          "output_type": "stream",
          "text": "The Precision of this dataset is 0.667\n",
          "name": "stdout"
        }
      ]
    },
    {
      "metadata": {},
      "cell_type": "markdown",
      "source": "#### F$_1$ Score\nCalculated using the equation $𝐹_1=2\\times \\frac{𝑝𝑟𝑒𝑐𝑖𝑠𝑖𝑜𝑛×𝑟𝑒𝑐𝑎𝑙𝑙}{𝑝𝑟𝑒𝑐𝑖𝑠𝑖𝑜𝑛+𝑟𝑒𝑐𝑎𝑙𝑙}$"
    },
    {
      "metadata": {
        "trusted": true
      },
      "cell_type": "code",
      "source": "f1 = 2 * (prec * tpr) / (prec + tpr)\nprint(f'The F1 score is {round(f1, 3)}')",
      "execution_count": 27,
      "outputs": [
        {
          "output_type": "stream",
          "text": "The F1 score is 0.668\n",
          "name": "stdout"
        }
      ]
    },
    {
      "metadata": {},
      "cell_type": "markdown",
      "source": "#### Creating a Data Frame to hold the data"
    },
    {
      "metadata": {
        "trusted": true
      },
      "cell_type": "code",
      "source": "metrics = {'Metric' :\n          ['Error_Rate', 'True_Positive_Rate', 'Precision', 'F1', 'False_Positive_Rate'], \n           'Value' : [error, tpr, prec, f1, fpr]}",
      "execution_count": 28,
      "outputs": []
    },
    {
      "metadata": {
        "trusted": true
      },
      "cell_type": "code",
      "source": "df_metrics = pd.DataFrame(metrics, columns =['Metric', 'Value'])\ndf_metrics",
      "execution_count": 29,
      "outputs": [
        {
          "output_type": "execute_result",
          "execution_count": 29,
          "data": {
            "text/html": "<div>\n<style scoped>\n    .dataframe tbody tr th:only-of-type {\n        vertical-align: middle;\n    }\n\n    .dataframe tbody tr th {\n        vertical-align: top;\n    }\n\n    .dataframe thead th {\n        text-align: right;\n    }\n</style>\n<table border=\"1\" class=\"dataframe\">\n  <thead>\n    <tr style=\"text-align: right;\">\n      <th></th>\n      <th>Metric</th>\n      <th>Value</th>\n    </tr>\n  </thead>\n  <tbody>\n    <tr>\n      <th>0</th>\n      <td>Error_Rate</td>\n      <td>0.666667</td>\n    </tr>\n    <tr>\n      <th>1</th>\n      <td>True_Positive_Rate</td>\n      <td>0.669683</td>\n    </tr>\n    <tr>\n      <th>2</th>\n      <td>Precision</td>\n      <td>0.666667</td>\n    </tr>\n    <tr>\n      <th>3</th>\n      <td>F1</td>\n      <td>0.668172</td>\n    </tr>\n    <tr>\n      <th>4</th>\n      <td>False_Positive_Rate</td>\n      <td>0.500000</td>\n    </tr>\n  </tbody>\n</table>\n</div>",
            "text/plain": "                Metric     Value\n0           Error_Rate  0.666667\n1   True_Positive_Rate  0.669683\n2            Precision  0.666667\n3                   F1  0.668172\n4  False_Positive_Rate  0.500000"
          },
          "metadata": {}
        }
      ]
    },
    {
      "metadata": {},
      "cell_type": "markdown",
      "source": "### Part C\nVarying the threshhold"
    },
    {
      "metadata": {
        "trusted": true
      },
      "cell_type": "code",
      "source": "df_roc = pd.DataFrame(columns = ['Threshold', 'TPR', 'FPR'])",
      "execution_count": 30,
      "outputs": []
    },
    {
      "metadata": {
        "trusted": true
      },
      "cell_type": "code",
      "source": "# Defining the rate as a float\nrate = 0.1\n\n# Iterating over 0.1 and 0.9 inclusive\nfor threshold in range(1, 10):\n    # Creating a confusion matrix for the new threshold\n    ct = pd.crosstab(Q2['Target'], Q2['Score'] > (threshold * rate))\n    \n    # Using a more concise way of caluclating of the equations above\n    # TP/(TP+FN)\n    tpr = round(np.mean(ct[1][1]/(ct[1][1] + ct[1][0])), 3)\n    \n    # 1 - TN/(TN-FP)\n    fpr = round(np.mean(1 - ct[0][0]/(ct[0][0] + ct[0][1])), 3)\n    \n    # Inserting into the Data Frame\n    df_roc.loc[len(df_roc)] = (round(threshold * rate, 3), tpr, fpr)",
      "execution_count": 31,
      "outputs": []
    },
    {
      "metadata": {
        "trusted": true
      },
      "cell_type": "code",
      "source": "df_roc",
      "execution_count": 32,
      "outputs": [
        {
          "output_type": "execute_result",
          "execution_count": 32,
          "data": {
            "text/html": "<div>\n<style scoped>\n    .dataframe tbody tr th:only-of-type {\n        vertical-align: middle;\n    }\n\n    .dataframe tbody tr th {\n        vertical-align: top;\n    }\n\n    .dataframe thead th {\n        text-align: right;\n    }\n</style>\n<table border=\"1\" class=\"dataframe\">\n  <thead>\n    <tr style=\"text-align: right;\">\n      <th></th>\n      <th>Threshold</th>\n      <th>TPR</th>\n      <th>FPR</th>\n    </tr>\n  </thead>\n  <tbody>\n    <tr>\n      <th>0</th>\n      <td>0.1</td>\n      <td>0.448</td>\n      <td>0.000</td>\n    </tr>\n    <tr>\n      <th>1</th>\n      <td>0.2</td>\n      <td>0.520</td>\n      <td>0.000</td>\n    </tr>\n    <tr>\n      <th>2</th>\n      <td>0.3</td>\n      <td>0.545</td>\n      <td>0.125</td>\n    </tr>\n    <tr>\n      <th>3</th>\n      <td>0.4</td>\n      <td>0.579</td>\n      <td>0.182</td>\n    </tr>\n    <tr>\n      <th>4</th>\n      <td>0.5</td>\n      <td>0.600</td>\n      <td>0.267</td>\n    </tr>\n    <tr>\n      <th>5</th>\n      <td>0.6</td>\n      <td>0.667</td>\n      <td>0.278</td>\n    </tr>\n    <tr>\n      <th>6</th>\n      <td>0.7</td>\n      <td>0.750</td>\n      <td>0.318</td>\n    </tr>\n    <tr>\n      <th>7</th>\n      <td>0.8</td>\n      <td>0.800</td>\n      <td>0.360</td>\n    </tr>\n    <tr>\n      <th>8</th>\n      <td>0.9</td>\n      <td>1.000</td>\n      <td>0.414</td>\n    </tr>\n  </tbody>\n</table>\n</div>",
            "text/plain": "   Threshold    TPR    FPR\n0        0.1  0.448  0.000\n1        0.2  0.520  0.000\n2        0.3  0.545  0.125\n3        0.4  0.579  0.182\n4        0.5  0.600  0.267\n5        0.6  0.667  0.278\n6        0.7  0.750  0.318\n7        0.8  0.800  0.360\n8        0.9  1.000  0.414"
          },
          "metadata": {}
        }
      ]
    },
    {
      "metadata": {},
      "cell_type": "markdown",
      "source": "### Part D\nDisplaying an ROC curve"
    },
    {
      "metadata": {
        "trusted": true
      },
      "cell_type": "code",
      "source": "sns.set_style('whitegrid')\nplt.plot(df_roc['FPR'], df_roc['TPR'])\nplt.plot([0,1], [0,1], linestyle = '--')\n\nplt.title('ROC Curve')\nplt.xlabel('False Positive Rate')\nplt.xticks(np.arange(0,1, step = 0.1))\n\nplt.ylabel('True Positive Rate (Recall)')\nplt.xticks(np.arange(0,1, step = 0.1))\n\nplt.show()",
      "execution_count": 33,
      "outputs": [
        {
          "output_type": "display_data",
          "data": {
            "image/png": "[encoded data removed]",
            "text/plain": "<Figure size 432x288 with 1 Axes>"
          },
          "metadata": {}
        }
      ]
    }
  ],
  "metadata": {
    "kernelspec": {
      "name": "python36",
      "display_name": "Python 3.6",
      "language": "python"
    },
    "language_info": {
      "mimetype": "text/x-python",
      "nbconvert_exporter": "python",
      "name": "python",
      "pygments_lexer": "ipython3",
      "version": "3.6.6",
      "file_extension": ".py",
      "codemirror_mode": {
        "version": 3,
        "name": "ipython"
      }
    }
  },
  "nbformat": 4,
  "nbformat_minor": 2
}