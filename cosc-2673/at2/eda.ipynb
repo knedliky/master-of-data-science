{
 "cells": [
  {
   "cell_type": "code",
   "execution_count": null,
   "id": "c4be7916",
   "metadata": {},
   "outputs": [],
   "source": [
    "import pandas as pd\n",
    "import numpy as np\n",
    "import pathlib\n",
    "import warnings\n",
    "\n",
    "warnings.filterwarnings('ignore')\n",
    "pd.set_option('display.max_columns', None)"
   ]
  },
  {
   "cell_type": "code",
   "execution_count": null,
   "id": "4f82bf92",
   "metadata": {},
   "outputs": [],
   "source": [
    "path_home = pathlib.Path.cwd()"
   ]
  },
  {
   "cell_type": "code",
   "execution_count": null,
   "id": "aa6dd7f1",
   "metadata": {},
   "outputs": [],
   "source": [
    "uci_data = pd.read_csv(path_home / 'data' / 'UCI_data.csv')"
   ]
  },
  {
   "cell_type": "code",
   "execution_count": null,
   "id": "56682936",
   "metadata": {},
   "outputs": [],
   "source": [
    "uci_data.head()"
   ]
  },
  {
   "cell_type": "code",
   "execution_count": null,
   "id": "0a30190d",
   "metadata": {},
   "outputs": [],
   "source": [
    "uci_data.shape"
   ]
  },
  {
   "cell_type": "code",
   "execution_count": null,
   "id": "0dc24e11",
   "metadata": {},
   "outputs": [],
   "source": [
    "uci_data.info()"
   ]
  },
  {
   "cell_type": "code",
   "execution_count": null,
   "id": "a3e9da3a",
   "metadata": {},
   "outputs": [],
   "source": [
    "uci_data.describe()"
   ]
  },
  {
   "cell_type": "code",
   "execution_count": null,
   "id": "934788f0",
   "metadata": {},
   "outputs": [],
   "source": [
    "from sklearn.model_selection import train_test_split\n",
    "train, test = uci_data.train_test_split(0.8, 0.2, random_state=27)"
   ]
  },
  {
   "cell_type": "markdown",
   "id": "eea28b31",
   "metadata": {},
   "source": [
    "# Preprocessing\n",
    "- **Date** is not in a date format and will need to be split into more descriptive features such as **season**, **weekday vs. weekend**, time of day (**peak/ off peak**) "
   ]
  },
  {
   "cell_type": "code",
   "execution_count": null,
   "id": "1266ca78",
   "metadata": {},
   "outputs": [],
   "source": []
  }
 ],
 "metadata": {
  "interpreter": {
   "hash": "781cb173be84e335edc0bcdbe2172263964b2278a56936bb9d465fff1429090c"
  },
  "kernelspec": {
   "display_name": "Python 3.9.10 ('cosc2673--R958nIt')",
   "language": "python",
   "name": "python3"
  },
  "language_info": {
   "codemirror_mode": {
    "name": "ipython",
    "version": 3
   },
   "file_extension": ".py",
   "mimetype": "text/x-python",
   "name": "python",
   "nbconvert_exporter": "python",
   "pygments_lexer": "ipython3",
   "version": "3.9.10"
  }
 },
 "nbformat": 4,
 "nbformat_minor": 5
}
