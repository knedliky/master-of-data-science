{
 "cells": [
  {
   "cell_type": "markdown",
   "source": [
    "## VEGETATION INDEX AVERAGE PLOTTING\r\n",
    "\r\n",
    "This is only for exploring the values of the different vegetation indexes overtime."
   ],
   "metadata": {}
  },
  {
   "cell_type": "code",
   "execution_count": null,
   "source": [
    "import pandas as pd\r\n",
    "import numpy as np\r\n",
    "from PIL import Image\r\n",
    "import matplotlib.pyplot as plt\r\n",
    "from matplotlib import image\r\n",
    "import glob\r\n",
    "import os"
   ],
   "outputs": [],
   "metadata": {}
  },
  {
   "cell_type": "code",
   "execution_count": null,
   "source": [
    "BASE_PATH = '/home/miebakso/Desktop/PROJECT/Good_Crop_Bad_Crop'"
   ],
   "outputs": [],
   "metadata": {}
  },
  {
   "cell_type": "code",
   "execution_count": null,
   "source": [
    "# x 7680,  y 1024 \r\n",
    "def get_tile_path(x, y, band, date):\r\n",
    "    path = f'C:\\\\Users\\\\Gladiator\\\\Documents\\\\Good_Crop_Bad_Crop\\\\model\\\\satelite_data\\\\phase-01\\\\data\\\\sentinel-2a-tile-{x}x-{y}y\\\\timeseries\\\\{x}-{y}-{band}-{date}.png'\r\n",
    "    return path"
   ],
   "outputs": [],
   "metadata": {}
  },
  {
   "cell_type": "code",
   "execution_count": null,
   "source": [
    "# get the dates\r\n",
    "paths = glob.glob(get_tile_path('7680','10240','B01','*'))\r\n",
    "dates = []\r\n",
    "for path in paths:\r\n",
    "    x = len(path)\r\n",
    "    dates.append(path[x-14:x-4])\r\n",
    "    \r\n",
    "# sort date  \r\n",
    "dates.sort(key= lambda x: int(''.join(x.split('-'))))\r\n",
    "\r\n",
    "dates[0:5]"
   ],
   "outputs": [],
   "metadata": {}
  },
  {
   "cell_type": "code",
   "execution_count": null,
   "source": [
    "# BAND 2 BLUE\r\n",
    "# BAND 3 GREEN\r\n",
    "# BAND 4 RED\r\n",
    "# BAND 5 VEGETATION RED EDGE\r\n",
    "# BAND 6 VEGETATION RED EDGE\r\n",
    "# BAND 7 VEGETATION RED EDGE\r\n",
    "# BAND 8 NIR\r\n",
    "# BAND 8A VEGETATION RED EDGE\r\n",
    "# BAND 9 WATER VAPOUR\r\n",
    "# BAND 10 SWIR CIRRUS\r\n",
    "# BAND 11 SWIR\r\n",
    "# BAND 12 SWIR\r\n",
    "BLUE = 'B02'\r\n",
    "GREEN = 'B03'\r\n",
    "RED = 'B04'\r\n",
    "NIR = 'B08'"
   ],
   "outputs": [],
   "metadata": {}
  },
  {
   "cell_type": "code",
   "execution_count": null,
   "source": [
    "# get the picture\r\n",
    "def get_image(x, y, band, date):\r\n",
    "    path = get_tile_path(x,y,band,date)\r\n",
    "    im = image.imread(path)\r\n",
    "    return im"
   ],
   "outputs": [],
   "metadata": {}
  },
  {
   "cell_type": "code",
   "execution_count": null,
   "source": [
    "temp = get_image('7680','10240','B02','2016-12-22')"
   ],
   "outputs": [],
   "metadata": {}
  },
  {
   "cell_type": "code",
   "execution_count": null,
   "source": [
    "plt.imshow(temp)"
   ],
   "outputs": [],
   "metadata": {}
  },
  {
   "cell_type": "code",
   "execution_count": null,
   "source": [
    "temp"
   ],
   "outputs": [],
   "metadata": {}
  },
  {
   "cell_type": "code",
   "execution_count": null,
   "source": [
    "temp = get_image('7680','10240','B04','2016-12-22')\r\n",
    "plt.imshow(temp)"
   ],
   "outputs": [],
   "metadata": {}
  },
  {
   "cell_type": "code",
   "execution_count": null,
   "source": [
    "def calulcate_NVDI(NIR, RED):\r\n",
    "    return (NIR - RED) / (NIR + RED)"
   ],
   "outputs": [],
   "metadata": {}
  },
  {
   "cell_type": "code",
   "execution_count": null,
   "source": [
    "red = get_image('7680','10240',RED,'2016-12-22')\r\n",
    "nir = get_image('7680','10240',NIR,'2016-12-22')\r\n",
    "temp = calulcate_NVDI(nir,red)"
   ],
   "outputs": [],
   "metadata": {}
  },
  {
   "cell_type": "code",
   "execution_count": null,
   "source": [
    "plt.imshow(temp)"
   ],
   "outputs": [],
   "metadata": {}
  },
  {
   "cell_type": "code",
   "execution_count": null,
   "source": [
    "def calculate_ENVDI(NIR, GREEN, BLUE):\r\n",
    "    return ((NIR+GREEN) - (2*BLUE)) / ((NIR+GREEN) + (2*BLUE)) "
   ],
   "outputs": [],
   "metadata": {}
  },
  {
   "cell_type": "code",
   "execution_count": null,
   "source": [
    "nir = get_image('7680','10240',NIR,'2016-12-22')\r\n",
    "green = get_image('7680','10240',GREEN,'2016-12-22')\r\n",
    "blue = get_image('7680','10240',BLUE,'2016-12-22')\r\n",
    "temp = calculate_ENVDI(nir,green, blue)\r\n",
    "print(np.min(temp))\r\n",
    "print(np.max(temp))\r\n",
    "\r\n",
    "plt.imshow(temp)"
   ],
   "outputs": [],
   "metadata": {}
  },
  {
   "cell_type": "code",
   "execution_count": null,
   "source": [
    "def calulcate_GNDVI(NIR, GREEN):\r\n",
    "    \r\n",
    "    return (NIR - GREEN) / (NIR + GREEN)"
   ],
   "outputs": [],
   "metadata": {}
  },
  {
   "cell_type": "code",
   "execution_count": null,
   "source": [
    "nir = get_image('7680','10240',NIR,'2016-12-22')\r\n",
    "green = get_image('7680','10240',GREEN,'2016-12-22')\r\n",
    "temp = calulcate_GNDVI(nir,green)\r\n",
    "plt.imshow(temp)"
   ],
   "outputs": [],
   "metadata": {}
  },
  {
   "cell_type": "code",
   "execution_count": null,
   "source": [
    "def calculate_SIPI(NIR, RED, BLUE):\r\n",
    "    division = NIR - RED\r\n",
    "    for i in range(0, len(division)):\r\n",
    "        for j in range(0, len(division[i])):\r\n",
    "            if division[i,j] == 0:\r\n",
    "                division[i,j] = np.min(division[i])\r\n",
    "    print(NIR -BLUE)\r\n",
    "    print(division)\r\n",
    "    result = ((NIR - BLUE) / (division))\r\n",
    "    return result"
   ],
   "outputs": [],
   "metadata": {}
  },
  {
   "cell_type": "code",
   "execution_count": null,
   "source": [
    "nir = get_image('7680','10240',NIR,'2016-12-22')\r\n",
    "red = get_image('7680','10240',RED,'2016-12-22')\r\n",
    "blue = get_image('7680','10240',BLUE,'2016-12-22')\r\n",
    "temp = calculate_SIPI(nir,red, blue)\r\n",
    "plt.imshow(temp)\r\n",
    "for i in range(0, len(temp)):\r\n",
    "        for j in range(0, len(temp[i])):\r\n",
    "            if temp[i,j] <0 or temp[i,j] >2:\r\n",
    "                print(nir[i,j])\r\n",
    "                print(red[i,j])\r\n",
    "                print(blue[i,j])\r\n",
    "                print(temp[i,j])\r\n",
    "                print()\r\n",
    "                \r\n"
   ],
   "outputs": [],
   "metadata": {}
  },
  {
   "cell_type": "code",
   "execution_count": null,
   "source": [
    "plt.imshow([[-409,-2,-3,-4,-1, 463]])"
   ],
   "outputs": [],
   "metadata": {}
  },
  {
   "cell_type": "code",
   "execution_count": null,
   "source": [
    "plt.imshow(nir-red)"
   ],
   "outputs": [],
   "metadata": {}
  },
  {
   "cell_type": "code",
   "execution_count": null,
   "source": [
    "temp  = Image.open(get_tile_path('7680','10240','B04','2016-12-22'))\r\n",
    "pixels = np.array(temp.getdata()).reshape(512,512)\r\n",
    "pixels"
   ],
   "outputs": [],
   "metadata": {}
  },
  {
   "cell_type": "code",
   "execution_count": null,
   "source": [
    "def get_wavelength(x, y, band, date):\r\n",
    "    im = Image.open(get_tile_path(x,y,band,date))\r\n",
    "    arr = np.array(im.getdata()).reshape(512,512)\r\n",
    "    return arr"
   ],
   "outputs": [],
   "metadata": {}
  },
  {
   "cell_type": "code",
   "execution_count": null,
   "source": [
    "red = get_wavelength('7680','10240',RED,'2016-12-22')\r\n",
    "nir = get_wavelength('7680','10240',NIR,'2016-12-22')\r\n",
    "temp = calulcate_NVDI(nir,red)"
   ],
   "outputs": [],
   "metadata": {}
  },
  {
   "cell_type": "code",
   "execution_count": null,
   "source": [
    "plt.imshow(temp)"
   ],
   "outputs": [],
   "metadata": {}
  },
  {
   "cell_type": "code",
   "execution_count": null,
   "source": [],
   "outputs": [],
   "metadata": {}
  },
  {
   "cell_type": "code",
   "execution_count": null,
   "source": [
    "mask_path = '/home/miebakso/Desktop/PROJECT/Good_Crop_Bad_Crop/model/satelite_data/phase-01/data/sentinel-2a-tile-7680x-10240y/masks/sugarcane-region-mask.png'\r\n",
    "def get_mask():\r\n",
    "    im = Image.open(mask_path)\r\n",
    "    pixels = im.load()\r\n",
    "    return pixels"
   ],
   "outputs": [],
   "metadata": {}
  },
  {
   "cell_type": "code",
   "execution_count": null,
   "source": [
    "mask = get_mask()\r\n",
    "mask[0,0]\r\n"
   ],
   "outputs": [],
   "metadata": {}
  },
  {
   "cell_type": "code",
   "execution_count": null,
   "source": [
    "# method to get the average of the tile divided by n * n filtered by mask\r\n",
    "def get_average(image1, mask, n):\r\n",
    "    results = []\r\n",
    "    length = int(512/n)\r\n",
    "    for i in range(0,n):\r\n",
    "        for j in range(0,n):\r\n",
    "            count = 0;\r\n",
    "            result = 0;\r\n",
    "            for x in range(0,length):\r\n",
    "                for y in range(0,length):\r\n",
    "                    x_index = (i*length) + x\r\n",
    "                    y_index = (j* length) + y\r\n",
    "                    if mask[x_index,y_index] == (0, 0, 0, 255):\r\n",
    "                        pixel = image1[x_index,y_index]\r\n",
    "                        result += pixel\r\n",
    "                        count +=1\r\n",
    "            if count == 0:\r\n",
    "                results.append(0)\r\n",
    "            else:\r\n",
    "                results.append(result/count)\r\n",
    "    return np.array(results)\r\n",
    "        "
   ],
   "outputs": [],
   "metadata": {}
  },
  {
   "cell_type": "code",
   "execution_count": null,
   "source": [
    "# testing\r\n",
    "\r\n",
    "\r\n",
    "\r\n",
    "\r\n",
    "\r\n",
    " = get_wavelength('7680','10240',RED,'2016-12-22')\r\n",
    "nir = get_wavelength('7680','10240',NIR,'2016-12-22')\r\n",
    "temp = calulcate_NVDI(nir,red)\r\n",
    "#get_average(temp,get_mask(),4)"
   ],
   "outputs": [],
   "metadata": {}
  },
  {
   "cell_type": "code",
   "execution_count": null,
   "source": [
    "X = '7680'\r\n",
    "Y = '10240'\r\n",
    "n = 8\r\n",
    "IS_IN_MASK = (0, 0, 0, 255)\r\n",
    "nvdis = []\r\n",
    "envdis = []\r\n",
    "gnvdis = []\r\n",
    "# for date in dates:\r\n",
    "#     red = get_wavelength(X,Y,RED,date)\r\n",
    "#     blue = get_wavelength(X,Y,BLUE,date)\r\n",
    "#     green = get_wavelength(X,Y,GREEN,date)\r\n",
    "#     nir = get_wavelength(X,Y,NIR,date)\r\n",
    "    \r\n",
    "#     nvdi = calulcate_NVDI(nir, red)\r\n",
    "#     envdi = calculate_ENVDI(nir, green, blue)\r\n",
    "#     gnvdi = calulcate_GNDVI(nir, green)\r\n",
    "    \r\n",
    "#     mask = get_mask()\r\n",
    "#     result = get_average(nvdi,mask,n)\r\n",
    "#     nvdis.append(result)\r\n",
    "    \r\n",
    "#     result = get_average(envdi,mask,n)\r\n",
    "#     envdis.append(result)\r\n",
    "    \r\n",
    "#     result = get_average(gnvdi,mask,n)\r\n",
    "#     gnvdis.append(result)\r\n",
    "    \r\n",
    "    "
   ],
   "outputs": [],
   "metadata": {}
  },
  {
   "cell_type": "code",
   "execution_count": null,
   "source": [
    "nvdis"
   ],
   "outputs": [],
   "metadata": {}
  },
  {
   "cell_type": "code",
   "execution_count": null,
   "source": [
    "xtick_loc = [i for i in range(0, len(dates))]\r\n",
    "\r\n",
    "def plot_field_average(results, x):\r\n",
    "    \r\n",
    "    \r\n",
    "    for i in range(0,len(results[0])):\r\n",
    "        plt.figure(figsize=(12,4), dpi=100)\r\n",
    "        result = []\r\n",
    "        for tile in results:\r\n",
    "            avg = tile[i]\r\n",
    "            result.append(avg)\r\n",
    "        plt.bar(dates, result, label = str(i))\r\n",
    "        plt.xticks(rotation=90)\r\n",
    "        plt.legend([str(i)])\r\n",
    "        plt.title('Average Sub-tile Value')\r\n",
    "        plt.grid(axis='y')\r\n",
    "        plt.xlabel('Dates')\r\n",
    "        plt.ylabel('VALUE')\r\n",
    "        plt.show()\r\n",
    "    "
   ],
   "outputs": [],
   "metadata": {}
  },
  {
   "cell_type": "code",
   "execution_count": null,
   "source": [
    "# NVDIS\r\n",
    "plot_field_average(nvdis,4)"
   ],
   "outputs": [],
   "metadata": {}
  },
  {
   "cell_type": "code",
   "execution_count": null,
   "source": [
    "# ENVDIS\r\n",
    "plot_field_average(envdis,4)"
   ],
   "outputs": [],
   "metadata": {}
  },
  {
   "cell_type": "code",
   "execution_count": null,
   "source": [
    "# ENVDIS\r\n",
    "plot_field_average(gnvdis,4)"
   ],
   "outputs": [],
   "metadata": {}
  },
  {
   "cell_type": "code",
   "execution_count": null,
   "source": [
    "mask = np.ones((10,12))\r\n",
    "mask[0,0] = 0\r\n",
    "mask\r\n"
   ],
   "outputs": [],
   "metadata": {}
  },
  {
   "cell_type": "code",
   "execution_count": null,
   "source": [
    "def get_partition(image, xStart, yStart, mask):\r\n",
    "    result = [] \r\n",
    "    for y in range(0, len(mask)):\r\n",
    "        for x in range(0, len(mask[0])):\r\n",
    "            # check if the mask pixel is selected then add the img pixel to list\r\n",
    "            if mask[y,x]==1:\r\n",
    "                result.append(image[yStart+y, xStart+x])\r\n",
    "    return np.array(result)"
   ],
   "outputs": [],
   "metadata": {}
  },
  {
   "cell_type": "code",
   "execution_count": null,
   "source": [
    "temp = get_wavelength('7680','10240',RED,'2016-12-22')\r\n",
    "res = get_partition(temp, 0,0, mask)\r\n",
    "print(len(res))"
   ],
   "outputs": [],
   "metadata": {}
  },
  {
   "cell_type": "code",
   "execution_count": null,
   "source": [
    "res"
   ],
   "outputs": [],
   "metadata": {}
  },
  {
   "cell_type": "code",
   "execution_count": null,
   "source": [
    "\r\n",
    "\r\n",
    "def get_avg_vegetation_index(vi, X, Y, xStart, yStart, mask):\r\n",
    "    result = []\r\n",
    "    avg = []\r\n",
    "    upper = []\r\n",
    "    lower = []\r\n",
    "    for date in dates[0:12]:\r\n",
    "        red = get_wavelength(X,Y,RED,date)\r\n",
    "        blue = get_wavelength(X,Y,BLUE,date)\r\n",
    "        green = get_wavelength(X,Y,GREEN,date)\r\n",
    "        nir = get_wavelength(X,Y,NIR,date)\r\n",
    "        \r\n",
    "        if vi == 'NVDI':\r\n",
    "            nvdi = calulcate_NVDI(nir, red)\r\n",
    "            res = get_partition(nvdi, xStart, yStart, mask)\r\n",
    "            average = np.average(res)\r\n",
    "            sd = np.std(res)\r\n",
    "\r\n",
    "            avg.append(average)\r\n",
    "            upper.append(average+(2*sd))\r\n",
    "            lower.append(average-(2*sd))\r\n",
    "            result.append(res)\r\n",
    "    dict = {}\r\n",
    "    dict['result'] = result\r\n",
    "    dict['avg'] = avg\r\n",
    "    dict['upper'] = upper\r\n",
    "    dict['lower'] = lower\r\n",
    "    return dict"
   ],
   "outputs": [],
   "metadata": {}
  },
  {
   "cell_type": "code",
   "execution_count": null,
   "source": [
    "X = '7680'\r\n",
    "Y = '10240'\r\n",
    "xStart = 0\r\n",
    "yStart = 0\r\n",
    "mask = np.ones((20,20))"
   ],
   "outputs": [],
   "metadata": {}
  },
  {
   "cell_type": "code",
   "execution_count": null,
   "source": [
    "temp = get_avg_vegetation_index('NVDI', X, Y, xStart, yStart, mask)"
   ],
   "outputs": [],
   "metadata": {}
  },
  {
   "cell_type": "code",
   "execution_count": null,
   "source": [
    "temp"
   ],
   "outputs": [],
   "metadata": {}
  },
  {
   "cell_type": "code",
   "execution_count": null,
   "source": [
    "xlabels = [] \r\n",
    "result = []\r\n",
    "xlabel2 = []\r\n",
    "for i in range(0, len(temp['result'])):\r\n",
    "    xlabel2.append(i)\r\n",
    "    for res in temp['result'][i]:\r\n",
    "        result.append(res)\r\n",
    "        xlabels.append(i)"
   ],
   "outputs": [],
   "metadata": {}
  },
  {
   "cell_type": "code",
   "execution_count": null,
   "source": [
    "plt.figure(figsize=(12,4), dpi=100)\r\n",
    "\r\n",
    "plt.scatter(xlabels, result, marker='o')\r\n",
    "\r\n",
    "plt.xticks(xlabel2, dates[0:12])\r\n",
    "plt.xticks(rotation=90)\r\n",
    "\r\n",
    "# plt.title('Average Sub-tile Value')\r\n",
    "plt.grid(axis='y')\r\n",
    "plt.yticks(np.arange(-0.5, 1.5, step=0.1))\r\n",
    "# plt.xlabel('Dates')\r\n",
    "# plt.ylabel('VALUE')\r\n",
    "plt.plot(xlabel2,temp['avg'], color='green', linestyle='dashed', label='Average')\r\n",
    "plt.plot(xlabel2,temp['upper'], color='orange', linestyle='dashed', label='Upper')\r\n",
    "plt.plot(xlabel2,temp['lower'], color='red', linestyle='dashed', label='Lower')\r\n",
    "plt.show()"
   ],
   "outputs": [],
   "metadata": {}
  }
 ],
 "metadata": {
  "kernelspec": {
   "name": "python3",
   "display_name": "Python 3.7.3 64-bit ('base': conda)"
  },
  "language_info": {
   "codemirror_mode": {
    "name": "ipython",
    "version": 3
   },
   "file_extension": ".py",
   "mimetype": "text/x-python",
   "name": "python",
   "nbconvert_exporter": "python",
   "pygments_lexer": "ipython3",
   "version": "3.7.3"
  },
  "interpreter": {
   "hash": "e4a5fd09e1eda1e1f7ddaaddda02f79631a1720d3c6fa2d79538e8a79d8cd204"
  }
 },
 "nbformat": 4,
 "nbformat_minor": 4
}