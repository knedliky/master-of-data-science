{
 "cells": [
  {
   "cell_type": "code",
   "execution_count": 1,
   "metadata": {},
   "outputs": [],
   "source": [
    "#imports\n",
    "import matplotlib.pyplot as plt\n",
    "from matplotlib import image\n",
    "import numpy as np\n",
    "import pandas as pd\n",
    "import glob\n",
    "from datetime import datetime\n",
    "import copy\n",
    "from matplotlib import cm\n",
    "import matplotlib.dates as mdates\n",
    "import json"
   ]
  },
  {
   "cell_type": "code",
   "execution_count": 2,
   "metadata": {},
   "outputs": [],
   "source": [
    "tile_x = 5120\n",
    "tile_y = 3584\n",
    "band = 'TCI' #photo\n",
    "time_period = '2019-07-20'\n",
    "TCI_filename = f\"./satelite_data/Phase02DataDelivery/sugarcanetiles/{tile_x}-{tile_y}-{band}-{time_period}.png\"\n",
    "#mask_filename = f\"./satelite_data/Phase02DataDelivery/masks/mask-x{tile_x}-y{tile_y}.png\"\n",
    "location_path = f\"./satelite_data/Phase02DataDelivery/sugarcanetiles/{tile_x}-{tile_y}-{band}*.png\"\n",
    "location_times = glob.glob(location_path)\n",
    "\n",
    "for i in range(0,len(location_times)):\n",
    "    location_times[i] = location_times[i][-14:-4]\n",
    "\n",
    "location_times.sort(reverse=True)"
   ]
  },
  {
   "cell_type": "code",
   "execution_count": 59,
   "metadata": {
    "scrolled": true
   },
   "outputs": [
    {
     "name": "stdout",
     "output_type": "stream",
     "text": [
      "Coords for 5120, 3584: (148.44725599525663,-20.213777989611096) to (148.49659904172267,-20.259534818362447)\n"
     ]
    },
    {
     "data": {
      "text/plain": [
       "(512, 512, 3)"
      ]
     },
     "execution_count": 59,
     "metadata": {},
     "output_type": "execute_result"
    }
   ],
   "source": [
    "def get_coord_array(tile_x, tile_y):\n",
    "    JSON_filename = f\"./satelite_data/Phase02DataDelivery/geometries/geo-x{tile_x}-y{tile_y}.geojson\"\n",
    "    #load json file\n",
    "    with open(JSON_filename) as f:\n",
    "        geo_dict = json.load(f)\n",
    "\n",
    "    coord_dict = geo_dict['features'][0]['geometry']['coordinates'][0]\n",
    "\n",
    "    TL = np.array(coord_dict[0])\n",
    "    TR = np.array(coord_dict[1])\n",
    "    BR = np.array(coord_dict[2])\n",
    "    BL = np.array(coord_dict[3])\n",
    "\n",
    "    print(f\"Coords for {tile_x}, {tile_y}: ({Left},{Top}) to ({Right},{Bottom})\")\n",
    "\n",
    "    #map to a 512x512 table\n",
    "    BR_map = np.linspace(0,1,512).reshape(512,1)\n",
    "    TL_map = np.linspace(1,0,512).reshape(512,1)\n",
    "\n",
    "    TL_ratio = TL_map.dot(TL_map.T)\n",
    "    BR_ratio = BR_map.dot(BR_map.T)\n",
    "    BL_ratio = BR_map.dot(TL_map.T)\n",
    "    TR_ratio = TL_map.dot(BR_map.T)\n",
    "\n",
    "    def sum_ratios(i, j):\n",
    "        sum_of_rat = TL_ratio[i,j]+TR_ratio[i,j]+BR_ratio[i,j]+BL_ratio[i,j]\n",
    "        assert(sum_of_rat <= 1.01)\n",
    "        assert(sum_of_rat >= 0.99)\n",
    "\n",
    "        return TL*TL_ratio[i,j] + TR*TR_ratio[i,j] + BL*BL_ratio[i,j] + BR*BR_ratio[i,j] \n",
    "    coords = np.zeros([512,512,3])\n",
    "    for i in range(0,512):\n",
    "        for j in range(0,512):\n",
    "            vals = sum_ratios(i,j)\n",
    "            coords[i,j,0] = vals[0]\n",
    "            coords[i,j,1] = vals[1]\n",
    "\n",
    "    return coords\n",
    "\n",
    "get_coord_array(5120, 3584).shape"
   ]
  },
  {
   "cell_type": "code",
   "execution_count": 54,
   "metadata": {},
   "outputs": [
    {
     "name": "stdout",
     "output_type": "stream",
     "text": [
      "TL:[148.447256   -20.21377799], TR:[148.49615427 -20.21336894], BR:[148.49659904 -20.25953482], BL:[148.44768622 -20.25994469]\n"
     ]
    },
    {
     "data": {
      "text/plain": [
       "[[148.44725599525663, -20.213777989611096],\n",
       " [148.49615427466193, -20.21336893727602],\n",
       " [148.49659904172267, -20.259534818362447],\n",
       " [148.44768621780295, -20.25994469403991],\n",
       " [148.44725599525663, -20.213777989611096]]"
      ]
     },
     "execution_count": 54,
     "metadata": {},
     "output_type": "execute_result"
    }
   ],
   "source": [
    "print(f\"TL:{TL}, TR:{TR}, BR:{BR}, BL:{BL}\")\n",
    "coord_dict"
   ]
  },
  {
   "cell_type": "code",
   "execution_count": 56,
   "metadata": {},
   "outputs": [
    {
     "data": {
      "text/plain": [
       "<matplotlib.image.AxesImage at 0x7fed988a68b0>"
      ]
     },
     "execution_count": 56,
     "metadata": {},
     "output_type": "execute_result"
    },
    {
     "data": {
      "image/png": "[encoded data removed]",
      "text/plain": [
       "<Figure size 432x288 with 1 Axes>"
      ]
     },
     "metadata": {
      "needs_background": "light"
     },
     "output_type": "display_data"
    }
   ],
   "source": [
    "plt.imshow(coords[:,:,1])"
   ]
  },
  {
   "cell_type": "code",
   "execution_count": 13,
   "metadata": {},
   "outputs": [
    {
     "data": {
      "text/plain": [
       "array([0., 0.])"
      ]
     },
     "execution_count": 13,
     "metadata": {},
     "output_type": "execute_result"
    }
   ],
   "source": [
    "coords[0,0]"
   ]
  },
  {
   "cell_type": "code",
   "execution_count": 37,
   "metadata": {},
   "outputs": [
    {
     "data": {
      "text/plain": [
       "array([148.49659904, -20.25953482])"
      ]
     },
     "execution_count": 37,
     "metadata": {},
     "output_type": "execute_result"
    }
   ],
   "source": [
    "coords[511,511]"
   ]
  }
 ],
 "metadata": {
  "kernelspec": {
   "display_name": "Python 3",
   "language": "python",
   "name": "python3"
  },
  "language_info": {
   "codemirror_mode": {
    "name": "ipython",
    "version": 3
   },
   "file_extension": ".py",
   "mimetype": "text/x-python",
   "name": "python",
   "nbconvert_exporter": "python",
   "pygments_lexer": "ipython3",
   "version": "3.8.5"
  }
 },
 "nbformat": 4,
 "nbformat_minor": 4
}
